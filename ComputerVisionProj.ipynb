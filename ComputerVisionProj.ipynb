{
  "nbformat": 4,
  "nbformat_minor": 0,
  "metadata": {
    "colab": {
      "name": "ComputerVisionProj.ipynb",
      "provenance": [],
      "authorship_tag": "ABX9TyPLIbpeXJ0qGv6mgC5bOVmD",
      "include_colab_link": true
    },
    "kernelspec": {
      "name": "python3",
      "display_name": "Python 3"
    }
  },
  "cells": [
    {
      "cell_type": "markdown",
      "metadata": {
        "id": "view-in-github",
        "colab_type": "text"
      },
      "source": [
        "<a href=\"https://colab.research.google.com/github/binodkshetry/IntrotoTensorFlowForAIML/blob/master/ComputerVisionProj.ipynb\" target=\"_parent\"><img src=\"https://colab.research.google.com/assets/colab-badge.svg\" alt=\"Open In Colab\"/></a>"
      ]
    },
    {
      "cell_type": "code",
      "metadata": {
        "id": "OXkngjdNHIxu",
        "colab_type": "code",
        "colab": {
          "base_uri": "https://localhost:8080/",
          "height": 35
        },
        "outputId": "a586379f-eaa8-48ac-9263-1c727b75c118"
      },
      "source": [
        "import tensorflow as tf\n",
        "print(tf.__version__)"
      ],
      "execution_count": 2,
      "outputs": [
        {
          "output_type": "stream",
          "text": [
            "2.3.0\n"
          ],
          "name": "stdout"
        }
      ]
    },
    {
      "cell_type": "code",
      "metadata": {
        "id": "CELeGDUEHqeC",
        "colab_type": "code",
        "colab": {
          "base_uri": "https://localhost:8080/",
          "height": 787
        },
        "outputId": "c6b44fea-f0f9-493f-e30c-aa6d852cab63"
      },
      "source": [
        "#loading the data, The Fashion MNIST is available directly in the tf.keras dataset API.\n",
        "mnist = tf.keras.datasets.fashion_mnist\n",
        "\n",
        "#Calling load_data on this object will give you two sets of two lists, these will be the training and testing values for \n",
        "#the graphics that contain the clothing items and their labels.\n",
        "\n",
        "(training_images, training_labels), (test_images, test_labels) = mnist.load_data()\n",
        "\n",
        "#What does these values look like? Let's print a training image, and a training label to see...\n",
        "#Experiment with different indices in the array. For example, also take a look at index 42...that's a a different boot than the one at index 0\n",
        "\n",
        "import numpy as np\n",
        "np.set_printoptions(linewidth=200)\n",
        "import matplotlib.pyplot as plt\n",
        "plt.imshow(training_images[255])\n",
        "print(training_labels[255])\n",
        "print(training_images[255])\n",
        "\n"
      ],
      "execution_count": 8,
      "outputs": [
        {
          "output_type": "stream",
          "text": [
            "4\n",
            "[[  0   0   0   0   0   0   1   3   0   0  27  63 117 159 159 107  55  21   0   0   0   0   0   0   0   0   0   0]\n",
            " [  0   0   0   0   0   0   3   0  59 189 210 216 235 224 224 229 215 207 190  48   0   2   0   0   0   0   0   0]\n",
            " [  0   0   0   0   1   0   2   0 147 215 190 205 193 196 209 198 196 195 246 147   0   7   1   0   0   0   0   0]\n",
            " [  0   0   0   0   0   0   0   0 157 193 181 212 207 204 220 220 254 189 196  81   0   1   1   0   0   0   0   0]\n",
            " [  0   0   0   0   0   2   0   0 196 188 164 163 174 191 183 158 131 138 189 151   0   0   1   0   0   0   0   0]\n",
            " [  0   0   0   0   1   0   0  53 204 214 219 193 169 209 190 168 210 190 190 204  43   0   2   0   0   0   0   0]\n",
            " [  0   0   0   0   6   0  45 195 188 186 185 194 149 186 183 148 205 185 158 170 229  32   0   2   0   0   0   0]\n",
            " [  0   0   0   0   0   0 142 180 180 183 177 177 159 170 164 113 106 120 142 155 170 139   0   0   0   0   0   0]\n",
            " [  0   0   0   0   0   4 184 160 175 183 190 185 170 174 180 160 169 168 157 138 163 167   2   0   0   0   0   0]\n",
            " [  0   0   0   0   0  39 170 157 173 185 179 184 165 165 206 146 149 170 167 143 148 179  60   0   0   0   0   0]\n",
            " [  0   0   0   0   0  85 175 163 165 175 172 178 152 160 196 125 133 168 159 178 144 165 132   0   0   0   0   0]\n",
            " [  0   0   0   0   0 126 169 163 147 155 164 183 118 149 196 117 105 149 149 170 159 107 172   0   0   0   0   0]\n",
            " [  0   0   0   0   0 159 169 173 146 147 157 153 126 139 174 118 125 159 137 148 168 164 200   9   0   0   0   0]\n",
            " [  0   0   0   0   2 180 159 201 170 151 159 162 159 154 181 153 125 146 170 168 207 179 211  32   0   0   0   0]\n",
            " [  0   0   0   0  28 188 157 169 180 151 160 178 131 146 211 138 125 162 183 172 200 134 180  73   0   0   0   0]\n",
            " [  0   0   0   0  40 195 157 220 201 141 160 168 122 133 196 125  97 152 157 154 186 152 168 102   0   0   0   0]\n",
            " [  0   0   0   0  43 199 151 203 217 127 147 159 134 139 190 157 128 183 178 160 181 139 186  99   0   0   0   0]\n",
            " [  0   0   0   0  56 190 129 205 220 165 204 201 160 144 184 178 160 180 219 193 232 123 198 106   0   0   0   0]\n",
            " [  0   0   0   0  65 179 128 248 133 174 153 153 129 139 185 165 106 138 159 142 201 154 152 122   0   0   0   0]\n",
            " [  0   0   0   0  80 172 172 201 136 167 133 157 134 132 190 170 112 122 158 112 178 169 155 131   0   0   0   0]\n",
            " [  0   0   0   0 101 165 155 201 141 155 153 196 139 123 216 154 177 117 169 153 175 143 178 139   0   0   0   0]\n",
            " [  0   0   0   0 103 160 185 194 146 167 172 174  90 137 203 139 111 151 157 169 163 152 178 144   0   0   0   0]\n",
            " [  0   0   0   0 108 160 181 185 149 163 163 158 112 118 173 163 138 108 129 169 183 127 162 142   0   0   0   0]\n",
            " [  0   0   0   0 125 178 199 190 139 162 167 173 152 126 183 173 169 147 120 143 189 138 178 142   0   0   0   0]\n",
            " [  0   0   0   0 132 169 204 181 132 164 175 154 123 101 204 138  97 178 149 126 185 129 146 139   0   0   0   0]\n",
            " [  0   0   0   0 158 179 215 189 141 165 177 123 112 116 207 157  74  85 199 175 167 160 167 186   0   0   0   0]\n",
            " [  0   0   0   0  17  54  45 157 186 170 200 174 181 138 233 174 111  95 131 183 207 123  80  79   0   0   0   0]\n",
            " [  0   0   0   0   0   0   0  16 116 133 132 157 154 115  76 107 102 144 159 118 141   2   0   0   0   0   0   0]]\n"
          ],
          "name": "stdout"
        },
        {
          "output_type": "display_data",
          "data": {
            "image/png": "[encoded data removed]",
            "text/plain": [
              "<Figure size 432x288 with 1 Axes>"
            ]
          },
          "metadata": {
            "tags": [],
            "needs_background": "light"
          }
        }
      ]
    },
    {
      "cell_type": "markdown",
      "metadata": {
        "id": "GafLXOtWI_8z",
        "colab_type": "text"
      },
      "source": [
        "Now you might be wondering why there are 2 sets...training and testing -- remember we spoke about this in the intro? The idea is to have 1 set of data for training, and then another set of data...that the model hasn't yet seen...to see how good it would be at classifying values. After all, when you're done, you're going to want to try it out with data that it hadn't previously seen!\n",
        "\n",
        "Let's now design the model. There's quite a few new concepts here, but don't worry, you'll get the hang of them."
      ]
    },
    {
      "cell_type": "code",
      "metadata": {
        "id": "Tqiev2f_JMZc",
        "colab_type": "code",
        "colab": {
          "base_uri": "https://localhost:8080/",
          "height": 233
        },
        "outputId": "f8767b79-295e-4609-9f03-44e7a54957c3"
      },
      "source": [
        "model = tf.keras.models.Sequential([tf.keras.layers.Flatten(), \n",
        "                                    tf.keras.layers.Dense(128, activation=tf.nn.relu), \n",
        "                                    tf.keras.layers.Dense(10, activation=tf.nn.softmax)])\n",
        "\n",
        "model.compile(optimizer = tf.optimizers.Adam(),\n",
        "              loss = 'sparse_categorical_crossentropy',\n",
        "              metrics=['accuracy'])\n",
        "\n",
        "model.fit(training_images, training_labels, epochs=5)\n",
        "\n",
        "model.evaluate(test_images, test_labels)"
      ],
      "execution_count": 10,
      "outputs": [
        {
          "output_type": "stream",
          "text": [
            "Epoch 1/5\n",
            "1875/1875 [==============================] - 3s 2ms/step - loss: 3.2587 - accuracy: 0.6830\n",
            "Epoch 2/5\n",
            "1875/1875 [==============================] - 3s 2ms/step - loss: 0.7078 - accuracy: 0.7279\n",
            "Epoch 3/5\n",
            "1875/1875 [==============================] - 3s 2ms/step - loss: 0.6195 - accuracy: 0.7564\n",
            "Epoch 4/5\n",
            "1875/1875 [==============================] - 3s 2ms/step - loss: 0.5998 - accuracy: 0.7686\n",
            "Epoch 5/5\n",
            "1875/1875 [==============================] - 3s 2ms/step - loss: 0.5657 - accuracy: 0.7800\n",
            "313/313 [==============================] - 0s 1ms/step - loss: 0.5894 - accuracy: 0.7791\n"
          ],
          "name": "stdout"
        },
        {
          "output_type": "execute_result",
          "data": {
            "text/plain": [
              "[0.5894350409507751, 0.7791000008583069]"
            ]
          },
          "metadata": {
            "tags": []
          },
          "execution_count": 10
        }
      ]
    }
  ]
}